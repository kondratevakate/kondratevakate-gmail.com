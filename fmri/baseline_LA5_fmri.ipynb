{
 "cells": [
  {
   "cell_type": "code",
   "execution_count": 1,
   "metadata": {},
   "outputs": [],
   "source": [
    "%load_ext autoreload\n",
    "%autoreload 2"
   ]
  },
  {
   "cell_type": "code",
   "execution_count": 2,
   "metadata": {},
   "outputs": [],
   "source": [
    "import functools\n",
    "import numpy as np\n",
    "from sklearn.metrics import roc_auc_score\n",
    "from sklearn.model_selection import StratifiedKFold, StratifiedShuffleSplit\n",
    "import torch\n",
    "from torch.utils.data import DataLoader, Subset\n",
    "import matplotlib.pyplot as plt\n",
    "\n",
    "from IPython.display import set_matplotlib_formats\n",
    "set_matplotlib_formats('retina')\n",
    "%matplotlib inline"
   ]
  },
  {
   "cell_type": "code",
   "execution_count": 3,
   "metadata": {},
   "outputs": [
    {
     "name": "stdout",
     "output_type": "stream",
     "text": [
      "cuda:0\n"
     ]
    }
   ],
   "source": [
    "import os\n",
    "os.environ['CUDA_VISIBLE_DEVICES'] = '1'\n",
    "device = \"cuda:0\" if torch.cuda.is_available() else 'cpu'\n",
    "print(device)"
   ]
  },
  {
   "cell_type": "code",
   "execution_count": 4,
   "metadata": {},
   "outputs": [],
   "source": [
    "import data\n",
    "import models\n",
    "import utils\n",
    "import routine\n",
    "import viz_tools"
   ]
  },
  {
   "cell_type": "code",
   "execution_count": 4,
   "metadata": {},
   "outputs": [
    {
     "name": "stdout",
     "output_type": "stream",
     "text": [
      "Tue Sep 22 17:43:41 2020       \n",
      "+-----------------------------------------------------------------------------+\n",
      "| NVIDIA-SMI 440.64       Driver Version: 440.64       CUDA Version: 10.2     |\n",
      "|-------------------------------+----------------------+----------------------+\n",
      "| GPU  Name        Persistence-M| Bus-Id        Disp.A | Volatile Uncorr. ECC |\n",
      "| Fan  Temp  Perf  Pwr:Usage/Cap|         Memory-Usage | GPU-Util  Compute M. |\n",
      "|===============================+======================+======================|\n",
      "|   0  Tesla P100-PCIE...  Off  | 00000000:83:00.0 Off |                    0 |\n",
      "| N/A   30C    P0    33W / 250W |   8341MiB / 16280MiB |      0%      Default |\n",
      "+-------------------------------+----------------------+----------------------+\n",
      "|   1  Tesla P100-PCIE...  Off  | 00000000:89:00.0 Off |                    0 |\n",
      "| N/A   28C    P0    31W / 250W |   8341MiB / 16280MiB |      0%      Default |\n",
      "+-------------------------------+----------------------+----------------------+\n",
      "|   2  Tesla P100-PCIE...  Off  | 00000000:8E:00.0 Off |                    0 |\n",
      "| N/A   22C    P0    26W / 250W |     10MiB / 16280MiB |      0%      Default |\n",
      "+-------------------------------+----------------------+----------------------+\n",
      "|   3  Tesla P100-PCIE...  Off  | 00000000:91:00.0 Off |                    0 |\n",
      "| N/A   24C    P0    26W / 250W |     10MiB / 16280MiB |      0%      Default |\n",
      "+-------------------------------+----------------------+----------------------+\n",
      "                                                                               \n",
      "+-----------------------------------------------------------------------------+\n",
      "| Processes:                                                       GPU Memory |\n",
      "|  GPU       PID   Type   Process name                             Usage      |\n",
      "|=============================================================================|\n",
      "+-----------------------------------------------------------------------------+\n"
     ]
    }
   ],
   "source": [
    "!nvidia-smi"
   ]
  },
  {
   "cell_type": "markdown",
   "metadata": {},
   "source": [
    "# Data"
   ]
  },
  {
   "cell_type": "code",
   "execution_count": 5,
   "metadata": {},
   "outputs": [],
   "source": [
    "# LA5_study_general\n",
    "la5_data = ['/home/datasets/LA5study/fmriprep_LA5study_aroma/fmriprep/']\n",
    "la5_temp_npy_folder_path = './LA5study_temp_npy/' # for numpy files\n",
    "la5_target_path = '../LA5study_targets.csv'\n",
    "#  LA5_study_smri\n",
    "la5_smri_file_suffix = 'T1w_space-MNI152NLin2009cAsym_preproc.nii'\n",
    "la5_smri_brain_mask_suffix = 'T1w_space-MNI152NLin2009cAsym_brainmask.nii'"
   ]
  },
  {
   "cell_type": "code",
   "execution_count": 6,
   "metadata": {},
   "outputs": [],
   "source": [
    "def get_absmax(dataset):\n",
    "    absmax = 0.\n",
    "    for (img, target) in dataset:\n",
    "        img = torch.FloatTensor(img).to(device)\n",
    "        absmax = max(absmax, img.abs().max().item())\n",
    "        del img, target\n",
    "    return absmax\n",
    "\n",
    "def AbsMaxScale(img, absmax):\n",
    "    return img / absmax"
   ]
  },
  {
   "cell_type": "code",
   "execution_count": null,
   "metadata": {},
   "outputs": [],
   "source": []
  },
  {
   "cell_type": "code",
   "execution_count": 7,
   "metadata": {},
   "outputs": [
    {
     "ename": "NameError",
     "evalue": "name 'data' is not defined",
     "output_type": "error",
     "traceback": [
      "\u001b[0;31m\u001b[0m",
      "\u001b[0;31mNameError\u001b[0mTraceback (most recent call last)",
      "\u001b[0;32m<ipython-input-7-73ae1612c22c>\u001b[0m in \u001b[0;36m<module>\u001b[0;34m\u001b[0m\n\u001b[0;32m----> 1\u001b[0;31m la5_dataset = data.LA5_Siblings_MRI(\n\u001b[0m\u001b[1;32m      2\u001b[0m     \u001b[0mpaths\u001b[0m\u001b[0;34m=\u001b[0m \u001b[0mla5_data\u001b[0m\u001b[0;34m,\u001b[0m\u001b[0;34m\u001b[0m\u001b[0;34m\u001b[0m\u001b[0m\n\u001b[1;32m      3\u001b[0m     \u001b[0mtarget_path\u001b[0m\u001b[0;34m=\u001b[0m \u001b[0mla5_target_path\u001b[0m\u001b[0;34m,\u001b[0m\u001b[0;34m\u001b[0m\u001b[0;34m\u001b[0m\u001b[0m\n\u001b[1;32m      4\u001b[0m     \u001b[0mload_online\u001b[0m\u001b[0;34m=\u001b[0m\u001b[0;32mTrue\u001b[0m\u001b[0;34m,\u001b[0m\u001b[0;34m\u001b[0m\u001b[0;34m\u001b[0m\u001b[0m\n\u001b[1;32m      5\u001b[0m     \u001b[0mmri_type\u001b[0m\u001b[0;34m=\u001b[0m\u001b[0;34m\"sMRI\"\u001b[0m\u001b[0;34m,\u001b[0m\u001b[0;34m\u001b[0m\u001b[0;34m\u001b[0m\u001b[0m\n",
      "\u001b[0;31mNameError\u001b[0m: name 'data' is not defined"
     ]
    }
   ],
   "source": [
    "la5_dataset = data.LA5_Siblings_MRI(\n",
    "    paths= la5_data,\n",
    "    target_path= la5_target_path,\n",
    "    load_online=True,\n",
    "    mri_type=\"sMRI\",\n",
    "    mri_file_suffix= la5_smri_file_suffix,\n",
    "    brain_mask_suffix= la5_smri_brain_mask_suffix,\n",
    "    coord_min=(20,20,0),\n",
    "    img_shape=(153, 189, 163),\n",
    "    problems=['Schz/Control'],\n",
    "    temp_storage_path= la5_temp_npy_folder_path\n",
    ")\n",
    "la5_absmax = 435.0126647949219 # get_absmax(la5_dataset)\n",
    "la5_dataset.transform = functools.partial(AbsMaxScale, absmax=la5_absmax)\n",
    "print(\"LA5 absmax before normalization: {}\".format(la5_absmax))\n",
    "print(\"Dataset size: {}\".format(len(la5_dataset)))\n",
    "print(\"Labels distribution: {}\\n\".format(np.unique(la5_dataset.labels, return_counts=True)))\n",
    "\n",
    "print(\"Example:\")\n",
    "img, target = la5_dataset[0]\n",
    "print(\"Image shape: {}\".format(img.shape))\n",
    "print(\"Target: {}\".format(target))\n",
    "viz_tools.plot_central_cuts(img)"
   ]
  },
  {
   "cell_type": "markdown",
   "metadata": {},
   "source": [
    "# Model structure"
   ]
  },
  {
   "cell_type": "code",
   "execution_count": null,
   "metadata": {},
   "outputs": [],
   "source": [
    "def create_model_opt(model_load_path=None, transfer=False):\n",
    "    # reproducibility\n",
    "    torch.manual_seed(0)\n",
    "    np.random.seed(0)\n",
    "    torch.backends.cudnn.deterministic = True\n",
    "    torch.backends.cudnn.benchmark = False\n",
    "\n",
    "    model = models.VoxResNet(num_classes=2, n_filters=32, stride=2, n_blocks=4,\n",
    "                             input_shape=la5_dataset.img_shape, dropout=0., n_fc_units=128,\n",
    "                             n_flatten_units=23040)\n",
    "    \n",
    "\n",
    "    if model_load_path is not None:\n",
    "        model.load_state_dict(torch.load(model_load_path))  \n",
    "    if transfer:\n",
    "        for param in model.parameters():\n",
    "            param.requires_grad = False\n",
    "        \n",
    "        last = torch.nn.Linear(128, 2)\n",
    "        modules = list(list(model.children())[0].children())[:-1] + [last]\n",
    "        model = torch.nn.Sequential(torch.nn.Sequential(*modules))\n",
    "        \n",
    "        opt = torch.optim.Adam(last.parameters(), lr=3e-5)\n",
    "    else:\n",
    "        opt = torch.optim.Adam(model.parameters(), lr=3e-5)\n",
    "    return model, opt"
   ]
  },
  {
   "cell_type": "markdown",
   "metadata": {},
   "source": [
    "# Train - LA5, Test - LA5"
   ]
  },
  {
   "cell_type": "code",
   "execution_count": 8,
   "metadata": {},
   "outputs": [
    {
     "ename": "NameError",
     "evalue": "name 'create_model_opt' is not defined",
     "output_type": "error",
     "traceback": [
      "\u001b[0;31m\u001b[0m",
      "\u001b[0;31mNameError\u001b[0mTraceback (most recent call last)",
      "\u001b[0;32m<timed exec>\u001b[0m in \u001b[0;36m<module>\u001b[0;34m\u001b[0m\n",
      "\u001b[0;31mNameError\u001b[0m: name 'create_model_opt' is not defined"
     ]
    }
   ],
   "source": [
    "%%time\n",
    "cv = StratifiedKFold(n_splits=5, shuffle=True, random_state=42)\n",
    "metric = roc_auc_score\n",
    "val_metrics = routine.cross_val_score(create_model_opt, la5_dataset, cv, device, metric, batch_size=10)\n",
    "print(\"val {}s: {}\".format(metric.__name__, val_metrics))\n",
    "print(\"val {} mean: {}\".format(metric.__name__, np.mean(val_metrics)))\n",
    "print(\"val {} std: {}\".format(metric.__name__, np.std(val_metrics)))"
   ]
  },
  {
   "cell_type": "code",
   "execution_count": null,
   "metadata": {},
   "outputs": [],
   "source": []
  }
 ],
 "metadata": {
  "accelerator": "GPU",
  "colab": {
   "collapsed_sections": [],
   "default_view": {},
   "name": "voxcnn mprage E_no E.ipynb",
   "provenance": [],
   "version": "0.3.2",
   "views": {}
  },
  "kernelspec": {
   "display_name": "Python 3",
   "language": "python",
   "name": "python3"
  },
  "language_info": {
   "codemirror_mode": {
    "name": "ipython",
    "version": 3
   },
   "file_extension": ".py",
   "mimetype": "text/x-python",
   "name": "python",
   "nbconvert_exporter": "python",
   "pygments_lexer": "ipython3",
   "version": "3.6.9"
  }
 },
 "nbformat": 4,
 "nbformat_minor": 4
}
